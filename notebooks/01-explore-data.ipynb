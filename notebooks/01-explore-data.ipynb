{
 "cells": [
  {
   "cell_type": "code",
   "execution_count": 35,
   "metadata": {},
   "outputs": [],
   "source": [
    "from datetime import datetime\n",
    "import pandas as pd"
   ]
  },
  {
   "cell_type": "code",
   "execution_count": 9,
   "metadata": {},
   "outputs": [],
   "source": [
    "dat = pd.read_csv('../data/raw/case_dataset.csv')"
   ]
  },
  {
   "cell_type": "code",
   "execution_count": 10,
   "metadata": {},
   "outputs": [
    {
     "name": "stdout",
     "output_type": "stream",
     "text": [
      "<class 'pandas.core.frame.DataFrame'>\n",
      "RangeIndex: 2999999 entries, 0 to 2999998\n",
      "Data columns (total 18 columns):\n",
      "Unnamed: 0          int64\n",
      "row_id              int64\n",
      "is_clicked          int64\n",
      "timestamp           int64\n",
      "channel             int64\n",
      "site_id             object\n",
      "site_category       object\n",
      "app_id              object\n",
      "app_category        object\n",
      "device_id           object\n",
      "device_ip           object\n",
      "device_model        object\n",
      "device_type         int64\n",
      "device_conn_type    int64\n",
      "P1                  int64\n",
      "P2                  int64\n",
      "P3                  int64\n",
      "P4                  int64\n",
      "dtypes: int64(11), object(7)\n",
      "memory usage: 412.0+ MB\n"
     ]
    }
   ],
   "source": [
    "dat.info()"
   ]
  },
  {
   "cell_type": "code",
   "execution_count": 12,
   "metadata": {},
   "outputs": [
    {
     "name": "stdout",
     "output_type": "stream",
     "text": [
      "<class 'pandas.core.frame.DataFrame'>\n",
      "Int64Index: 2999999 entries, 1 to 2999999\n",
      "Data columns (total 16 columns):\n",
      "is_clicked          int64\n",
      "timestamp           int64\n",
      "channel             int64\n",
      "site_id             object\n",
      "site_category       object\n",
      "app_id              object\n",
      "app_category        object\n",
      "device_id           object\n",
      "device_ip           object\n",
      "device_model        object\n",
      "device_type         int64\n",
      "device_conn_type    int64\n",
      "P1                  int64\n",
      "P2                  int64\n",
      "P3                  int64\n",
      "P4                  int64\n",
      "dtypes: int64(9), object(7)\n",
      "memory usage: 389.1+ MB\n"
     ]
    }
   ],
   "source": [
    "# drop redundant index col and use row_id as index\n",
    "dat = dat.drop(['Unnamed: 0'], axis=1)\n",
    "dat = dat.set_index('row_id')\n",
    "dat.info()"
   ]
  },
  {
   "cell_type": "code",
   "execution_count": 26,
   "metadata": {},
   "outputs": [
    {
     "data": {
      "text/plain": [
       "0    2486391\n",
       "1     513608\n",
       "Name: is_clicked, dtype: int64"
      ]
     },
     "execution_count": 26,
     "metadata": {},
     "output_type": "execute_result"
    }
   ],
   "source": [
    "# check target label distribution\n",
    "dat['is_clicked'].value_counts()"
   ]
  },
  {
   "cell_type": "code",
   "execution_count": 22,
   "metadata": {},
   "outputs": [
    {
     "data": {
      "text/plain": [
       "0    2233305\n",
       "1     762286\n",
       "5       2615\n",
       "2       1058\n",
       "7        428\n",
       "4        298\n",
       "3          9\n",
       "Name: channel, dtype: int64"
      ]
     },
     "execution_count": 22,
     "metadata": {},
     "output_type": "execute_result"
    }
   ],
   "source": [
    "dat['channel'].value_counts()"
   ]
  },
  {
   "cell_type": "markdown",
   "metadata": {},
   "source": [
    "Convert some features to categorical. \n",
    "N.B. Not sure about channel. The description mentions 'position' which suggests an ordinal quality, but both the name 'channel' and the distribution of the value suggest a categorical nature. Normally I'd validate but for now I'll go for categorical."
   ]
  },
  {
   "cell_type": "code",
   "execution_count": 20,
   "metadata": {},
   "outputs": [
    {
     "name": "stdout",
     "output_type": "stream",
     "text": [
      "<class 'pandas.core.frame.DataFrame'>\n",
      "Int64Index: 2999999 entries, 1 to 2999999\n",
      "Data columns (total 16 columns):\n",
      "is_clicked          int64\n",
      "timestamp           int64\n",
      "channel             int64\n",
      "site_id             category\n",
      "site_category       category\n",
      "app_id              category\n",
      "app_category        category\n",
      "device_id           category\n",
      "device_ip           category\n",
      "device_model        category\n",
      "device_type         category\n",
      "device_conn_type    category\n",
      "P1                  category\n",
      "P2                  category\n",
      "P3                  category\n",
      "P4                  category\n",
      "dtypes: category(13), int64(3)\n",
      "memory usage: 216.0 MB\n"
     ]
    }
   ],
   "source": [
    "categorical_features = [c for c in dat.columns if c not in ['is_clicked', 'timestamp']]\n",
    "dat = dat.astype({c: 'category' for c in categorical_features})\n",
    "dat.info()"
   ]
  },
  {
   "cell_type": "code",
   "execution_count": 25,
   "metadata": {},
   "outputs": [
    {
     "name": "stdout",
     "output_type": "stream",
     "text": [
      "Feature channel has 7 distinct values\n",
      "Feature site_id has 2716 distinct values\n",
      "Feature site_category has 22 distinct values\n",
      "Feature app_id has 3647 distinct values\n",
      "Feature app_category has 30 distinct values\n",
      "Feature device_id has 252147 distinct values\n",
      "Feature device_ip has 819835 distinct values\n",
      "Feature device_model has 5770 distinct values\n",
      "Feature device_type has 4 distinct values\n",
      "Feature device_conn_type has 4 distinct values\n",
      "Feature P1 has 9 distinct values\n",
      "Feature P2 has 188 distinct values\n",
      "Feature P3 has 4 distinct values\n",
      "Feature P4 has 44 distinct values\n"
     ]
    }
   ],
   "source": [
    "cols = [c for c in dat.columns if c not in ['is_clicked', 'timestamp']]\n",
    "for c in cols:\n",
    "    print(f'Feature {c} has {dat[c].nunique()} distinct values')"
   ]
  },
  {
   "cell_type": "markdown",
   "metadata": {},
   "source": [
    "Features with many distinct values cannot be sensibly used, so we'll only keep channel, site_category, app_category, device_type, device_conn_type"
   ]
  },
  {
   "cell_type": "code",
   "execution_count": 27,
   "metadata": {
    "scrolled": true
   },
   "outputs": [
    {
     "data": {
      "text/plain": [
       "50e219e0    1150046\n",
       "f028772b     876625\n",
       "28905ebd     659034\n",
       "3e814130     217319\n",
       "f66779e6      31043\n",
       "335d28a8      16620\n",
       "76b2941d      12260\n",
       "75fa27f6      11184\n",
       "0569f928       7892\n",
       "72722551       7046\n",
       "70fb0e29       5251\n",
       "c0dd3be3       2420\n",
       "a818d37a       1372\n",
       "dedf689d       1281\n",
       "e787de0e        339\n",
       "42a36e14         91\n",
       "bcf865d9         61\n",
       "5378d028         58\n",
       "8fd0aea4         47\n",
       "9ccfa2ea          7\n",
       "74073276          2\n",
       "110ab22d          1\n",
       "Name: site_category, dtype: int64"
      ]
     },
     "execution_count": 27,
     "metadata": {},
     "output_type": "execute_result"
    }
   ],
   "source": [
    "dat['site_category'].value_counts()"
   ]
  },
  {
   "cell_type": "code",
   "execution_count": 28,
   "metadata": {},
   "outputs": [
    {
     "data": {
      "text/plain": [
       "07d7df22    1998238\n",
       "0f2161f8     662884\n",
       "cef3e649     112797\n",
       "f95efa07     101468\n",
       "8ded1f7a      88521\n",
       "d1327cf5      16597\n",
       "09481d60       6794\n",
       "75d80bbe       3434\n",
       "4ce2e9fc       2314\n",
       "fc6fa53d       2127\n",
       "dc97ec06       1220\n",
       "879c24eb       1053\n",
       "a3c42688        842\n",
       "0f9a328c        532\n",
       "2281a340        312\n",
       "4681bb9d        256\n",
       "a86a3e89        199\n",
       "79f0b860        141\n",
       "0bfbc358        112\n",
       "8df2e842         83\n",
       "7113d72a         26\n",
       "a7fd01ec         21\n",
       "18b1e0be         16\n",
       "4b7ade46          3\n",
       "5326cf99          3\n",
       "86c1a5a3          2\n",
       "2fc4f2aa          1\n",
       "52de74cf          1\n",
       "ef03ae90          1\n",
       "71af18ce          1\n",
       "Name: app_category, dtype: int64"
      ]
     },
     "execution_count": 28,
     "metadata": {},
     "output_type": "execute_result"
    }
   ],
   "source": [
    "dat['app_category'].value_counts()"
   ]
  },
  {
   "cell_type": "code",
   "execution_count": 29,
   "metadata": {
    "scrolled": true
   },
   "outputs": [
    {
     "data": {
      "text/plain": [
       "1    2815342\n",
       "0     137429\n",
       "4      42321\n",
       "5       4907\n",
       "Name: device_type, dtype: int64"
      ]
     },
     "execution_count": 29,
     "metadata": {},
     "output_type": "execute_result"
    }
   ],
   "source": [
    "dat['device_type'].value_counts()"
   ]
  },
  {
   "cell_type": "code",
   "execution_count": 30,
   "metadata": {
    "scrolled": true
   },
   "outputs": [
    {
     "data": {
      "text/plain": [
       "0    2687845\n",
       "2     247312\n",
       "3      60738\n",
       "5       4104\n",
       "Name: device_conn_type, dtype: int64"
      ]
     },
     "execution_count": 30,
     "metadata": {},
     "output_type": "execute_result"
    }
   ],
   "source": [
    "dat['device_conn_type'].value_counts()"
   ]
  },
  {
   "cell_type": "code",
   "execution_count": 33,
   "metadata": {},
   "outputs": [
    {
     "data": {
      "text/plain": [
       "is_clicked          0\n",
       "timestamp           0\n",
       "channel             0\n",
       "site_id             0\n",
       "site_category       0\n",
       "app_id              0\n",
       "app_category        0\n",
       "device_id           0\n",
       "device_ip           0\n",
       "device_model        0\n",
       "device_type         0\n",
       "device_conn_type    0\n",
       "P1                  0\n",
       "P2                  0\n",
       "P3                  0\n",
       "P4                  0\n",
       "dtype: int64"
      ]
     },
     "execution_count": 33,
     "metadata": {},
     "output_type": "execute_result"
    }
   ],
   "source": [
    "# check missing values\n",
    "# wow no missing values!\n",
    "dat.isnull().sum(axis=0)"
   ]
  },
  {
   "cell_type": "code",
   "execution_count": 36,
   "metadata": {},
   "outputs": [],
   "source": [
    "# parse datetime from timestamp and create datetime features\n",
    "dat['datetime'] = dat['timestamp'].apply(lambda x: datetime.strptime(str(x), '%y%m%d%H'))\n",
    "dat = dat.assign(\n",
    "    year = dat['datetime'].dt.year,\n",
    "    month = dat['datetime'].dt.month,\n",
    "    month_day = dat['datetime'].dt.day,\n",
    "    is_month_start = dat['datetime'].dt.is_month_start,\n",
    "    is_month_end = dat['datetime'].dt.is_month_end,\n",
    "    week_day = dat['datetime'].dt.weekday,\n",
    "    is_weekend = dat['datetime'].dt.weekday >= 5,\n",
    "    hour = dat['datetime'].dt.hour,\n",
    "    is_working_hour = ((dat['datetime'].dt.hour >= 8) & (dat['datetime'].dt.hour <= 18)),\n",
    "    is_night_hour = ((dat['datetime'].dt.hour >= 23) & (dat['datetime'].dt.hour <= 5))\n",
    ")"
   ]
  },
  {
   "cell_type": "code",
   "execution_count": 37,
   "metadata": {},
   "outputs": [
    {
     "name": "stdout",
     "output_type": "stream",
     "text": [
      "2014    2999999\n",
      "Name: year, dtype: int64\n",
      "10    2999999\n",
      "Name: month, dtype: int64\n",
      "21    2999999\n",
      "Name: month_day, dtype: int64\n"
     ]
    }
   ],
   "source": [
    "print(dat['year'].value_counts())\n",
    "print(dat['month'].value_counts())\n",
    "print(dat['month_day'].value_counts())"
   ]
  },
  {
   "cell_type": "markdown",
   "metadata": {},
   "source": [
    "All data is from one single day! Not only does this mean we can't use most of these datetime features, but it's a bad idea to build a model on only this data, since all date/time-related influences will be unaccounted for."
   ]
  },
  {
   "cell_type": "code",
   "execution_count": null,
   "metadata": {},
   "outputs": [],
   "source": []
  }
 ],
 "metadata": {
  "kernelspec": {
   "display_name": "Python 3",
   "language": "python",
   "name": "python3"
  },
  "language_info": {
   "codemirror_mode": {
    "name": "ipython",
    "version": 3
   },
   "file_extension": ".py",
   "mimetype": "text/x-python",
   "name": "python",
   "nbconvert_exporter": "python",
   "pygments_lexer": "ipython3",
   "version": "3.6.6"
  }
 },
 "nbformat": 4,
 "nbformat_minor": 2
}
